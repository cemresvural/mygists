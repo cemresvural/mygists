{
 "cells": [
  {
   "cell_type": "code",
   "execution_count": null,
   "id": "1734f95f",
   "metadata": {},
   "outputs": [],
   "source": [
    "#zip"
   ]
  },
  {
   "cell_type": "code",
   "execution_count": 11,
   "id": "41535b66",
   "metadata": {},
   "outputs": [],
   "source": [
    "students = [\"JOHN\",\"MARIA\",\"VENESSA\",\"SEZEN\"]"
   ]
  },
  {
   "cell_type": "code",
   "execution_count": 12,
   "id": "0e0dc3b7",
   "metadata": {},
   "outputs": [],
   "source": [
    "departments = [\"mathematics\", \"statistics\",\"physics\",\"astronomy\"]"
   ]
  },
  {
   "cell_type": "code",
   "execution_count": 13,
   "id": "53b9d098",
   "metadata": {},
   "outputs": [],
   "source": [
    "ages =[23, 30, 26, 22]"
   ]
  },
  {
   "cell_type": "code",
   "execution_count": 14,
   "id": "3bbf42c1",
   "metadata": {},
   "outputs": [
    {
     "data": {
      "text/plain": [
       "[('JOHN', 'mathematics', 23),\n",
       " ('MARIA', 'statistics', 30),\n",
       " ('VENESSA', 'physics', 26),\n",
       " ('SEZEN', 'astronomy', 22)]"
      ]
     },
     "execution_count": 14,
     "metadata": {},
     "output_type": "execute_result"
    }
   ],
   "source": [
    "list(zip(students,departments,ages))"
   ]
  },
  {
   "cell_type": "code",
   "execution_count": 21,
   "id": "19066ad9",
   "metadata": {},
   "outputs": [
    {
     "data": {
      "text/plain": [
       "9"
      ]
     },
     "execution_count": 21,
     "metadata": {},
     "output_type": "execute_result"
    }
   ],
   "source": [
    "#lamda,reduce,filter\n",
    "def summer(a, b):\n",
    "    return a+b\n",
    "summer(1, 3)*9\n",
    "\n",
    "new_sum = lambda a, b:a+b\n",
    "new_sum(4, 5)"
   ]
  },
  {
   "cell_type": "code",
   "execution_count": 23,
   "id": "342ac8da",
   "metadata": {},
   "outputs": [
    {
     "data": {
      "text/plain": [
       "2400.0"
      ]
     },
     "execution_count": 23,
     "metadata": {},
     "output_type": "execute_result"
    }
   ],
   "source": [
    "#map\n",
    "salaries = [5000,2000,6000,7050]\n",
    "def new_salary(x):\n",
    "    return x * 20/100 +x\n",
    "new_salary(2000)"
   ]
  },
  {
   "cell_type": "code",
   "execution_count": 25,
   "id": "6edcb1fd",
   "metadata": {},
   "outputs": [
    {
     "name": "stdout",
     "output_type": "stream",
     "text": [
      "6000.0\n",
      "2400.0\n",
      "7200.0\n",
      "8460.0\n"
     ]
    }
   ],
   "source": [
    "for salary in salaries:\n",
    "    print(new_salary(salary))\n"
   ]
  },
  {
   "cell_type": "code",
   "execution_count": 26,
   "id": "3129197d",
   "metadata": {},
   "outputs": [
    {
     "data": {
      "text/plain": [
       "[6000.0, 2400.0, 7200.0, 8460.0]"
      ]
     },
     "execution_count": 26,
     "metadata": {},
     "output_type": "execute_result"
    }
   ],
   "source": [
    "list(map(new_salary, salaries))"
   ]
  },
  {
   "cell_type": "code",
   "execution_count": 27,
   "id": "8b349e15",
   "metadata": {},
   "outputs": [],
   "source": [
    "del new_sum"
   ]
  },
  {
   "cell_type": "code",
   "execution_count": 28,
   "id": "2c6df764",
   "metadata": {},
   "outputs": [
    {
     "data": {
      "text/plain": [
       "[6000.0, 2400.0, 7200.0, 8460.0]"
      ]
     },
     "execution_count": 28,
     "metadata": {},
     "output_type": "execute_result"
    }
   ],
   "source": [
    "list(map(lambda x: x*20/100 +x, salaries))"
   ]
  },
  {
   "cell_type": "code",
   "execution_count": 31,
   "id": "36b7ae71",
   "metadata": {},
   "outputs": [
    {
     "data": {
      "text/plain": [
       "[2, 4, 6, 8, 10]"
      ]
     },
     "execution_count": 31,
     "metadata": {},
     "output_type": "execute_result"
    }
   ],
   "source": [
    "#filter\n",
    "list_store = [1,2,3,4,5,6,7,8,9,10]\n",
    "list(filter(lambda x: x%2 == 0, list_store))"
   ]
  },
  {
   "cell_type": "code",
   "execution_count": 32,
   "id": "649edb74",
   "metadata": {},
   "outputs": [
    {
     "data": {
      "text/plain": [
       "10"
      ]
     },
     "execution_count": 32,
     "metadata": {},
     "output_type": "execute_result"
    }
   ],
   "source": [
    "#reduce: indirgemek\n",
    "from functools import reduce\n",
    "list_store = [1,2,3,4]\n",
    "reduce(lambda a,b :a+b ,list_store)"
   ]
  },
  {
   "cell_type": "code",
   "execution_count": 38,
   "id": "10acc0d2",
   "metadata": {},
   "outputs": [
    {
     "name": "stdout",
     "output_type": "stream",
     "text": [
      "[11.0, 22.0, 33.0, 40, 50]\n"
     ]
    }
   ],
   "source": [
    "wages =[10,20,30,40,50]\n",
    "\n",
    "new_wages =[]\n",
    "\n",
    "\n",
    "\n",
    "for wage in wages:\n",
    "\n",
    "    if wage<40:\n",
    "\n",
    "        new_w= wage * 1.10\n",
    "\n",
    "        new_wages.append(new_w)\n",
    "\n",
    "    else:\n",
    "\n",
    "        new_wages.append(wage)\n",
    "\n",
    "print(new_wages)"
   ]
  },
  {
   "cell_type": "code",
   "execution_count": 45,
   "id": "b7251115",
   "metadata": {},
   "outputs": [
    {
     "data": {
      "text/plain": [
       "[840.0, 960.0, 1080.0, 120.0]"
      ]
     },
     "execution_count": 45,
     "metadata": {},
     "output_type": "execute_result"
    }
   ],
   "source": [
    "wages =[700,800,900,100]\n",
    "[wages*1.1 if wage>950 else wage *1.2 for wage in wages]"
   ]
  },
  {
   "cell_type": "code",
   "execution_count": 48,
   "id": "e9d3fab2",
   "metadata": {},
   "outputs": [
    {
     "name": "stdout",
     "output_type": "stream",
     "text": [
      " 1 London\n",
      " 2 Paris\n",
      " 3 Berlin\n"
     ]
    }
   ],
   "source": [
    "city_name = [\"London\", \"Paris\", \"Berlin\"]\n",
    "\n",
    "def plate(cities):\n",
    "\n",
    "    for index, city in enumerate(cities, 1): print(f\" {index} {city}\")\n",
    "\n",
    "plate(city_name)\n",
    "\n"
   ]
  },
  {
   "cell_type": "code",
   "execution_count": null,
   "id": "7aaead1d",
   "metadata": {},
   "outputs": [],
   "source": []
  }
 ],
 "metadata": {
  "kernelspec": {
   "display_name": "Python 3 (ipykernel)",
   "language": "python",
   "name": "python3"
  },
  "language_info": {
   "codemirror_mode": {
    "name": "ipython",
    "version": 3
   },
   "file_extension": ".py",
   "mimetype": "text/x-python",
   "name": "python",
   "nbconvert_exporter": "python",
   "pygments_lexer": "ipython3",
   "version": "3.9.13"
  }
 },
 "nbformat": 4,
 "nbformat_minor": 5
}
